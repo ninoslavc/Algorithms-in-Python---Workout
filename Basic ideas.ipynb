{
 "cells": [
  {
   "cell_type": "markdown",
   "metadata": {
    "collapsed": true,
    "pycharm": {
     "name": "#%% md\n"
    }
   },
   "source": [
    "Complexity"
   ]
  },
  {
   "cell_type": "code",
   "execution_count": 1,
   "outputs": [
    {
     "data": {
      "text/plain": "1"
     },
     "execution_count": 1,
     "metadata": {},
     "output_type": "execute_result"
    }
   ],
   "source": [
    "# Constant time O(1)\n",
    "# The algorithm takes the same amount of time, no matter of the\n",
    "# size of the input data\n",
    "# Example: getting the first element of the list\n",
    "\n",
    "def getFirstElement(p_list: list):\n",
    "    return p_list[0]\n",
    "\n",
    "testList = [1,2,3,4]\n",
    "getFirstElement(testList)"
   ],
   "metadata": {
    "collapsed": false,
    "pycharm": {
     "name": "#%%\n"
    }
   }
  },
  {
   "cell_type": "code",
   "source": [
    "# Linear time O(n)\n",
    "# The execution time is proportional to the size of the input\n",
    "# Example: get the sum of a single-dimensional list\n",
    "\n",
    "def getSum(p_list: list):\n",
    "    sum = 0\n",
    "    for item in p_list:\n",
    "        sum += item\n",
    "    return sum\n",
    "\n",
    "getSum(testList)"
   ],
   "metadata": {
    "collapsed": false,
    "pycharm": {
     "name": "#%%\n"
    }
   },
   "execution_count": 2,
   "outputs": [
    {
     "data": {
      "text/plain": "10"
     },
     "execution_count": 2,
     "metadata": {},
     "output_type": "execute_result"
    }
   ]
  },
  {
   "cell_type": "code",
   "execution_count": 3,
   "outputs": [
    {
     "data": {
      "text/plain": "21"
     },
     "execution_count": 3,
     "metadata": {},
     "output_type": "execute_result"
    }
   ],
   "source": [
    "# Quadratic time O(n**2)\n",
    "# Example: get the sum of a two-dimensional list\n",
    "\n",
    "def getSumTwoDimensional(p_list: list):\n",
    "    sum = 0\n",
    "    for row in p_list:\n",
    "        for item in row:\n",
    "            sum += item\n",
    "\n",
    "    return  sum\n",
    "\n",
    "twoDimensionalList = [[1,2,3], [4,5,6]]\n",
    "\n",
    "getSumTwoDimensional(twoDimensionalList)"
   ],
   "metadata": {
    "collapsed": false,
    "pycharm": {
     "name": "#%%\n"
    }
   }
  },
  {
   "cell_type": "code",
   "execution_count": 24,
   "outputs": [
    {
     "name": "stdout",
     "output_type": "stream",
     "text": [
      "[1, 2, 3, 4]\n"
     ]
    },
    {
     "data": {
      "text/plain": "('The value exists in the list on index:', 1)"
     },
     "execution_count": 24,
     "metadata": {},
     "output_type": "execute_result"
    }
   ],
   "source": [
    "# Logarithmic time O(log n)\n",
    "# Example: Binary search\n",
    "\n",
    "def binarySearch(p_list:list, p_item: int):\n",
    "    low  = 0\n",
    "    high = len(p_list)\n",
    "\n",
    "    while low < high:\n",
    "\n",
    "        mid = (low+high)//2\n",
    "\n",
    "        if p_list[mid] < p_item:\n",
    "            low = mid + 1\n",
    "        elif p_list[mid] > p_item:\n",
    "            high = mid\n",
    "        else:\n",
    "            return 'The value exists in the list on index:', mid\n",
    "    return 'There is no such value', -1\n",
    "#test\n",
    "print(testList)\n",
    "binarySearch(testList, 2)"
   ],
   "metadata": {
    "collapsed": false,
    "pycharm": {
     "name": "#%%\n"
    }
   }
  },
  {
   "cell_type": "code",
   "execution_count": 41,
   "outputs": [
    {
     "name": "stdout",
     "output_type": "stream",
     "text": [
      "[1, 2, 3, 4]\n"
     ]
    },
    {
     "data": {
      "text/plain": "True"
     },
     "execution_count": 41,
     "metadata": {},
     "output_type": "execute_result"
    }
   ],
   "source": [
    "# Logarithmic time O(log n)\n",
    "# Example: Binary search with recursion\n",
    "\n",
    "def binarySearchRecursion(p_list: list, p_item:int):\n",
    "    low  = 0\n",
    "    high = len(p_list)\n",
    "    mid = (low+high)//2\n",
    "    if len(p_list) ==0:\n",
    "        return False\n",
    "    if p_list[mid] == p_item:\n",
    "        return True\n",
    "    elif p_list[mid] < p_item:\n",
    "        return binarySearchRecursion(p_list[mid + 1:], p_item)\n",
    "    elif p_list[mid] > p_item:\n",
    "        return binarySearchRecursion(p_list[:mid-1], p_item)\n",
    "\n",
    "\n",
    "print(testList)\n",
    "binarySearchRecursion(testList, 4)\n"
   ],
   "metadata": {
    "collapsed": false,
    "pycharm": {
     "name": "#%%\n"
    }
   }
  },
  {
   "cell_type": "code",
   "execution_count": 26,
   "outputs": [],
   "source": [],
   "metadata": {
    "collapsed": false,
    "pycharm": {
     "name": "#%%\n"
    }
   }
  }
 ],
 "metadata": {
  "kernelspec": {
   "display_name": "Python 3",
   "language": "python",
   "name": "python3"
  },
  "language_info": {
   "codemirror_mode": {
    "name": "ipython",
    "version": 2
   },
   "file_extension": ".py",
   "mimetype": "text/x-python",
   "name": "python",
   "nbconvert_exporter": "python",
   "pygments_lexer": "ipython2",
   "version": "2.7.6"
  }
 },
 "nbformat": 4,
 "nbformat_minor": 0
}